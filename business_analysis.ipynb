{
 "cells": [
  {
   "cell_type": "code",
   "execution_count": 1,
   "id": "6aba9722-caf4-4b4e-a435-40ea89cc0c1f",
   "metadata": {},
   "outputs": [],
   "source": [
    "# import pandas \n",
    "import pandas as pd\n",
    "# read the first csv file in \n",
    "df = pd.read_csv('business.retailsales.csv')\n",
    "# read second csv file in\n",
    "df2 = pd.read_csv('business.retailsales2.csv')"
   ]
  },
  {
   "cell_type": "code",
   "execution_count": 2,
   "id": "6cd9e08c-202d-4699-b5d0-98a21c6395d3",
   "metadata": {},
   "outputs": [
    {
     "data": {
      "text/html": [
       "<div>\n",
       "<style scoped>\n",
       "    .dataframe tbody tr th:only-of-type {\n",
       "        vertical-align: middle;\n",
       "    }\n",
       "\n",
       "    .dataframe tbody tr th {\n",
       "        vertical-align: top;\n",
       "    }\n",
       "\n",
       "    .dataframe thead th {\n",
       "        text-align: right;\n",
       "    }\n",
       "</style>\n",
       "<table border=\"1\" class=\"dataframe\">\n",
       "  <thead>\n",
       "    <tr style=\"text-align: right;\">\n",
       "      <th></th>\n",
       "      <th>Product Type</th>\n",
       "      <th>Net Quantity</th>\n",
       "      <th>Gross Sales</th>\n",
       "      <th>Discounts</th>\n",
       "      <th>Returns</th>\n",
       "      <th>Total Net Sales</th>\n",
       "    </tr>\n",
       "  </thead>\n",
       "  <tbody>\n",
       "    <tr>\n",
       "      <th>0</th>\n",
       "      <td>Art &amp; Sculpture</td>\n",
       "      <td>34</td>\n",
       "      <td>14935.0</td>\n",
       "      <td>-594.00</td>\n",
       "      <td>-1609.0</td>\n",
       "      <td>12732.00</td>\n",
       "    </tr>\n",
       "    <tr>\n",
       "      <th>1</th>\n",
       "      <td>Basket</td>\n",
       "      <td>13</td>\n",
       "      <td>3744.0</td>\n",
       "      <td>-316.80</td>\n",
       "      <td>0.0</td>\n",
       "      <td>3427.20</td>\n",
       "    </tr>\n",
       "    <tr>\n",
       "      <th>2</th>\n",
       "      <td>Basket</td>\n",
       "      <td>12</td>\n",
       "      <td>3825.0</td>\n",
       "      <td>-201.60</td>\n",
       "      <td>-288.0</td>\n",
       "      <td>3335.40</td>\n",
       "    </tr>\n",
       "    <tr>\n",
       "      <th>3</th>\n",
       "      <td>Basket</td>\n",
       "      <td>17</td>\n",
       "      <td>3035.0</td>\n",
       "      <td>-63.25</td>\n",
       "      <td>0.0</td>\n",
       "      <td>2971.75</td>\n",
       "    </tr>\n",
       "    <tr>\n",
       "      <th>4</th>\n",
       "      <td>Art &amp; Sculpture</td>\n",
       "      <td>47</td>\n",
       "      <td>2696.8</td>\n",
       "      <td>-44.16</td>\n",
       "      <td>0.0</td>\n",
       "      <td>2652.64</td>\n",
       "    </tr>\n",
       "  </tbody>\n",
       "</table>\n",
       "</div>"
      ],
      "text/plain": [
       "      Product Type  Net Quantity  Gross Sales  Discounts  Returns  \\\n",
       "0  Art & Sculpture            34      14935.0    -594.00  -1609.0   \n",
       "1           Basket            13       3744.0    -316.80      0.0   \n",
       "2           Basket            12       3825.0    -201.60   -288.0   \n",
       "3           Basket            17       3035.0     -63.25      0.0   \n",
       "4  Art & Sculpture            47       2696.8     -44.16      0.0   \n",
       "\n",
       "   Total Net Sales  \n",
       "0         12732.00  \n",
       "1          3427.20  \n",
       "2          3335.40  \n",
       "3          2971.75  \n",
       "4          2652.64  "
      ]
     },
     "execution_count": 2,
     "metadata": {},
     "output_type": "execute_result"
    }
   ],
   "source": [
    "# look at first 5 rows of first dataframe\n",
    "df.head()"
   ]
  },
  {
   "cell_type": "code",
   "execution_count": 3,
   "id": "ea02d0ba-d575-4345-9878-d657537e8f5e",
   "metadata": {},
   "outputs": [
    {
     "data": {
      "text/html": [
       "<div>\n",
       "<style scoped>\n",
       "    .dataframe tbody tr th:only-of-type {\n",
       "        vertical-align: middle;\n",
       "    }\n",
       "\n",
       "    .dataframe tbody tr th {\n",
       "        vertical-align: top;\n",
       "    }\n",
       "\n",
       "    .dataframe thead th {\n",
       "        text-align: right;\n",
       "    }\n",
       "</style>\n",
       "<table border=\"1\" class=\"dataframe\">\n",
       "  <thead>\n",
       "    <tr style=\"text-align: right;\">\n",
       "      <th></th>\n",
       "      <th>Month</th>\n",
       "      <th>Year</th>\n",
       "      <th>Total Orders</th>\n",
       "      <th>Gross Sales</th>\n",
       "      <th>Discounts</th>\n",
       "      <th>Returns</th>\n",
       "      <th>Net Sales</th>\n",
       "      <th>Shipping</th>\n",
       "      <th>Total Sales</th>\n",
       "    </tr>\n",
       "  </thead>\n",
       "  <tbody>\n",
       "    <tr>\n",
       "      <th>0</th>\n",
       "      <td>January</td>\n",
       "      <td>2017</td>\n",
       "      <td>73</td>\n",
       "      <td>8861.5</td>\n",
       "      <td>-129.40</td>\n",
       "      <td>-448.45</td>\n",
       "      <td>8283.65</td>\n",
       "      <td>1088.30</td>\n",
       "      <td>9371.95</td>\n",
       "    </tr>\n",
       "    <tr>\n",
       "      <th>1</th>\n",
       "      <td>February</td>\n",
       "      <td>2017</td>\n",
       "      <td>56</td>\n",
       "      <td>6908.5</td>\n",
       "      <td>-104.70</td>\n",
       "      <td>-416.20</td>\n",
       "      <td>6387.60</td>\n",
       "      <td>892.45</td>\n",
       "      <td>7280.05</td>\n",
       "    </tr>\n",
       "    <tr>\n",
       "      <th>2</th>\n",
       "      <td>March</td>\n",
       "      <td>2017</td>\n",
       "      <td>60</td>\n",
       "      <td>5778.5</td>\n",
       "      <td>-172.20</td>\n",
       "      <td>-1017.20</td>\n",
       "      <td>4589.10</td>\n",
       "      <td>707.43</td>\n",
       "      <td>5296.53</td>\n",
       "    </tr>\n",
       "    <tr>\n",
       "      <th>3</th>\n",
       "      <td>April</td>\n",
       "      <td>2017</td>\n",
       "      <td>70</td>\n",
       "      <td>8814.0</td>\n",
       "      <td>-281.40</td>\n",
       "      <td>0.00</td>\n",
       "      <td>8532.60</td>\n",
       "      <td>1068.30</td>\n",
       "      <td>9600.90</td>\n",
       "    </tr>\n",
       "    <tr>\n",
       "      <th>4</th>\n",
       "      <td>May</td>\n",
       "      <td>2017</td>\n",
       "      <td>54</td>\n",
       "      <td>6677.0</td>\n",
       "      <td>-185.75</td>\n",
       "      <td>-253.80</td>\n",
       "      <td>6237.45</td>\n",
       "      <td>866.46</td>\n",
       "      <td>7103.91</td>\n",
       "    </tr>\n",
       "  </tbody>\n",
       "</table>\n",
       "</div>"
      ],
      "text/plain": [
       "      Month  Year  Total Orders  Gross Sales  Discounts  Returns  Net Sales  \\\n",
       "0   January  2017            73       8861.5    -129.40  -448.45    8283.65   \n",
       "1  February  2017            56       6908.5    -104.70  -416.20    6387.60   \n",
       "2     March  2017            60       5778.5    -172.20 -1017.20    4589.10   \n",
       "3     April  2017            70       8814.0    -281.40     0.00    8532.60   \n",
       "4       May  2017            54       6677.0    -185.75  -253.80    6237.45   \n",
       "\n",
       "   Shipping  Total Sales  \n",
       "0   1088.30      9371.95  \n",
       "1    892.45      7280.05  \n",
       "2    707.43      5296.53  \n",
       "3   1068.30      9600.90  \n",
       "4    866.46      7103.91  "
      ]
     },
     "execution_count": 3,
     "metadata": {},
     "output_type": "execute_result"
    }
   ],
   "source": [
    "# look at first 5 files of second datframe\n",
    "df2.head()\n"
   ]
  },
  {
   "cell_type": "code",
   "execution_count": 8,
   "id": "c0d4084c-d3e8-4105-8bdb-252340b9eef5",
   "metadata": {},
   "outputs": [
    {
     "name": "stdout",
     "output_type": "stream",
     "text": [
      "<class 'pandas.core.frame.DataFrame'>\n",
      "RangeIndex: 1775 entries, 0 to 1774\n",
      "Data columns (total 6 columns):\n",
      " #   Column           Non-Null Count  Dtype  \n",
      "---  ------           --------------  -----  \n",
      " 0   Product Type     1767 non-null   object \n",
      " 1   Net Quantity     1775 non-null   int64  \n",
      " 2   Gross Sales      1775 non-null   float64\n",
      " 3   Discounts        1775 non-null   float64\n",
      " 4   Returns          1775 non-null   float64\n",
      " 5   Total Net Sales  1775 non-null   float64\n",
      "dtypes: float64(4), int64(1), object(1)\n",
      "memory usage: 83.3+ KB\n"
     ]
    }
   ],
   "source": [
    "df.info()"
   ]
  },
  {
   "cell_type": "code",
   "execution_count": 25,
   "id": "695b3e33-f095-4448-861b-3bd749561970",
   "metadata": {},
   "outputs": [
    {
     "data": {
      "text/plain": [
       "['Product Type',\n",
       " 'Net Quantity',\n",
       " 'Gross Sales',\n",
       " 'Discounts',\n",
       " 'Returns',\n",
       " 'Total Net Sales',\n",
       " 'Month',\n",
       " 'Year',\n",
       " 'Total Orders',\n",
       " 'Net Sales',\n",
       " 'Shipping',\n",
       " 'Total Sales']"
      ]
     },
     "execution_count": 25,
     "metadata": {},
     "output_type": "execute_result"
    }
   ],
   "source": [
    "# View list of columns in first dataframe\n",
    "my_list = df.columns.values.tolist()\n",
    "my_list"
   ]
  },
  {
   "cell_type": "code",
   "execution_count": 26,
   "id": "ab85e3b4-6b2e-4e3c-9dfe-bfafa8659c5d",
   "metadata": {},
   "outputs": [
    {
     "data": {
      "text/plain": [
       "['Month',\n",
       " 'Year',\n",
       " 'Total Orders',\n",
       " 'Gross Sales',\n",
       " 'Discounts',\n",
       " 'Returns',\n",
       " 'Net Sales',\n",
       " 'Shipping',\n",
       " 'Total Sales']"
      ]
     },
     "execution_count": 26,
     "metadata": {},
     "output_type": "execute_result"
    }
   ],
   "source": [
    "# View list of columns in second dataframe\n",
    "my_list2 = df2.columns.values.tolist()\n",
    "my_list2"
   ]
  },
  {
   "cell_type": "code",
   "execution_count": 10,
   "id": "5ff6513c-633e-4940-987a-9ded087019ee",
   "metadata": {},
   "outputs": [
    {
     "name": "stdout",
     "output_type": "stream",
     "text": [
      "<class 'pandas.core.frame.DataFrame'>\n",
      "RangeIndex: 36 entries, 0 to 35\n",
      "Data columns (total 9 columns):\n",
      " #   Column        Non-Null Count  Dtype  \n",
      "---  ------        --------------  -----  \n",
      " 0   Month         36 non-null     object \n",
      " 1   Year          36 non-null     int64  \n",
      " 2   Total Orders  36 non-null     int64  \n",
      " 3   Gross Sales   36 non-null     float64\n",
      " 4   Discounts     36 non-null     float64\n",
      " 5   Returns       36 non-null     float64\n",
      " 6   Net Sales     36 non-null     float64\n",
      " 7   Shipping      36 non-null     float64\n",
      " 8   Total Sales   36 non-null     float64\n",
      "dtypes: float64(6), int64(2), object(1)\n",
      "memory usage: 2.7+ KB\n"
     ]
    }
   ],
   "source": [
    "df2.info()"
   ]
  },
  {
   "cell_type": "code",
   "execution_count": 11,
   "id": "fe7b737d-31ca-4d70-8050-adaf70518a22",
   "metadata": {},
   "outputs": [
    {
     "data": {
      "text/plain": [
       "Product Type       8\n",
       "Net Quantity       0\n",
       "Gross Sales        0\n",
       "Discounts          0\n",
       "Returns            0\n",
       "Total Net Sales    0\n",
       "dtype: int64"
      ]
     },
     "execution_count": 11,
     "metadata": {},
     "output_type": "execute_result"
    }
   ],
   "source": [
    "# Check to see if first dataframe has any n/a characters and total\n",
    "df.isnull().sum()"
   ]
  },
  {
   "cell_type": "code",
   "execution_count": 12,
   "id": "4a45a6ce-29d8-4e97-b8c4-8b8517ca9dba",
   "metadata": {},
   "outputs": [
    {
     "data": {
      "text/plain": [
       "Month           0\n",
       "Year            0\n",
       "Total Orders    0\n",
       "Gross Sales     0\n",
       "Discounts       0\n",
       "Returns         0\n",
       "Net Sales       0\n",
       "Shipping        0\n",
       "Total Sales     0\n",
       "dtype: int64"
      ]
     },
     "execution_count": 12,
     "metadata": {},
     "output_type": "execute_result"
    }
   ],
   "source": [
    "# Check to see if second dataframe has any n/a characters and total\n",
    "df2.isnull().sum()"
   ]
  },
  {
   "cell_type": "code",
   "execution_count": 13,
   "id": "c3d39da8-eab8-463d-be14-8fa59039c6eb",
   "metadata": {},
   "outputs": [
    {
     "data": {
      "text/html": [
       "<div>\n",
       "<style scoped>\n",
       "    .dataframe tbody tr th:only-of-type {\n",
       "        vertical-align: middle;\n",
       "    }\n",
       "\n",
       "    .dataframe tbody tr th {\n",
       "        vertical-align: top;\n",
       "    }\n",
       "\n",
       "    .dataframe thead th {\n",
       "        text-align: right;\n",
       "    }\n",
       "</style>\n",
       "<table border=\"1\" class=\"dataframe\">\n",
       "  <thead>\n",
       "    <tr style=\"text-align: right;\">\n",
       "      <th></th>\n",
       "      <th>Net Quantity</th>\n",
       "      <th>Gross Sales</th>\n",
       "      <th>Discounts</th>\n",
       "      <th>Returns</th>\n",
       "      <th>Total Net Sales</th>\n",
       "    </tr>\n",
       "  </thead>\n",
       "  <tbody>\n",
       "    <tr>\n",
       "      <th>count</th>\n",
       "      <td>1775.000000</td>\n",
       "      <td>1775.000000</td>\n",
       "      <td>1775.000000</td>\n",
       "      <td>1775.000000</td>\n",
       "      <td>1775.000000</td>\n",
       "    </tr>\n",
       "    <tr>\n",
       "      <th>mean</th>\n",
       "      <td>3.712676</td>\n",
       "      <td>199.671746</td>\n",
       "      <td>-6.317623</td>\n",
       "      <td>-5.385437</td>\n",
       "      <td>187.968687</td>\n",
       "    </tr>\n",
       "    <tr>\n",
       "      <th>std</th>\n",
       "      <td>6.243078</td>\n",
       "      <td>464.880638</td>\n",
       "      <td>20.903517</td>\n",
       "      <td>46.654269</td>\n",
       "      <td>414.547039</td>\n",
       "    </tr>\n",
       "    <tr>\n",
       "      <th>min</th>\n",
       "      <td>-1.000000</td>\n",
       "      <td>0.000000</td>\n",
       "      <td>-594.000000</td>\n",
       "      <td>-1609.000000</td>\n",
       "      <td>-106.250000</td>\n",
       "    </tr>\n",
       "    <tr>\n",
       "      <th>25%</th>\n",
       "      <td>1.000000</td>\n",
       "      <td>48.000000</td>\n",
       "      <td>-6.000000</td>\n",
       "      <td>0.000000</td>\n",
       "      <td>44.800000</td>\n",
       "    </tr>\n",
       "    <tr>\n",
       "      <th>50%</th>\n",
       "      <td>2.000000</td>\n",
       "      <td>100.000000</td>\n",
       "      <td>0.000000</td>\n",
       "      <td>0.000000</td>\n",
       "      <td>96.000000</td>\n",
       "    </tr>\n",
       "    <tr>\n",
       "      <th>75%</th>\n",
       "      <td>4.000000</td>\n",
       "      <td>185.500000</td>\n",
       "      <td>0.000000</td>\n",
       "      <td>0.000000</td>\n",
       "      <td>184.750000</td>\n",
       "    </tr>\n",
       "    <tr>\n",
       "      <th>max</th>\n",
       "      <td>96.000000</td>\n",
       "      <td>14935.000000</td>\n",
       "      <td>0.000000</td>\n",
       "      <td>0.000000</td>\n",
       "      <td>12732.000000</td>\n",
       "    </tr>\n",
       "  </tbody>\n",
       "</table>\n",
       "</div>"
      ],
      "text/plain": [
       "       Net Quantity   Gross Sales    Discounts      Returns  Total Net Sales\n",
       "count   1775.000000   1775.000000  1775.000000  1775.000000      1775.000000\n",
       "mean       3.712676    199.671746    -6.317623    -5.385437       187.968687\n",
       "std        6.243078    464.880638    20.903517    46.654269       414.547039\n",
       "min       -1.000000      0.000000  -594.000000 -1609.000000      -106.250000\n",
       "25%        1.000000     48.000000    -6.000000     0.000000        44.800000\n",
       "50%        2.000000    100.000000     0.000000     0.000000        96.000000\n",
       "75%        4.000000    185.500000     0.000000     0.000000       184.750000\n",
       "max       96.000000  14935.000000     0.000000     0.000000     12732.000000"
      ]
     },
     "execution_count": 13,
     "metadata": {},
     "output_type": "execute_result"
    }
   ],
   "source": [
    "df.describe()"
   ]
  },
  {
   "cell_type": "code",
   "execution_count": 14,
   "id": "01e4ffd0-274d-46ef-b42e-0e3ebd022abb",
   "metadata": {},
   "outputs": [
    {
     "data": {
      "text/html": [
       "<div>\n",
       "<style scoped>\n",
       "    .dataframe tbody tr th:only-of-type {\n",
       "        vertical-align: middle;\n",
       "    }\n",
       "\n",
       "    .dataframe tbody tr th {\n",
       "        vertical-align: top;\n",
       "    }\n",
       "\n",
       "    .dataframe thead th {\n",
       "        text-align: right;\n",
       "    }\n",
       "</style>\n",
       "<table border=\"1\" class=\"dataframe\">\n",
       "  <thead>\n",
       "    <tr style=\"text-align: right;\">\n",
       "      <th></th>\n",
       "      <th>Year</th>\n",
       "      <th>Total Orders</th>\n",
       "      <th>Gross Sales</th>\n",
       "      <th>Discounts</th>\n",
       "      <th>Returns</th>\n",
       "      <th>Net Sales</th>\n",
       "      <th>Shipping</th>\n",
       "      <th>Total Sales</th>\n",
       "    </tr>\n",
       "  </thead>\n",
       "  <tbody>\n",
       "    <tr>\n",
       "      <th>count</th>\n",
       "      <td>36.000000</td>\n",
       "      <td>36.000000</td>\n",
       "      <td>36.000000</td>\n",
       "      <td>36.000000</td>\n",
       "      <td>36.000000</td>\n",
       "      <td>36.000000</td>\n",
       "      <td>36.000000</td>\n",
       "      <td>36.000000</td>\n",
       "    </tr>\n",
       "    <tr>\n",
       "      <th>mean</th>\n",
       "      <td>2018.000000</td>\n",
       "      <td>97.138889</td>\n",
       "      <td>9844.926389</td>\n",
       "      <td>-311.493889</td>\n",
       "      <td>-474.958056</td>\n",
       "      <td>9058.474444</td>\n",
       "      <td>1579.391667</td>\n",
       "      <td>10637.941111</td>\n",
       "    </tr>\n",
       "    <tr>\n",
       "      <th>std</th>\n",
       "      <td>0.828079</td>\n",
       "      <td>57.458632</td>\n",
       "      <td>4936.386351</td>\n",
       "      <td>362.766989</td>\n",
       "      <td>488.820410</td>\n",
       "      <td>4497.185264</td>\n",
       "      <td>1011.170014</td>\n",
       "      <td>5475.621125</td>\n",
       "    </tr>\n",
       "    <tr>\n",
       "      <th>min</th>\n",
       "      <td>2017.000000</td>\n",
       "      <td>54.000000</td>\n",
       "      <td>5720.000000</td>\n",
       "      <td>-2269.510000</td>\n",
       "      <td>-1572.550000</td>\n",
       "      <td>4589.100000</td>\n",
       "      <td>695.420000</td>\n",
       "      <td>5296.530000</td>\n",
       "    </tr>\n",
       "    <tr>\n",
       "      <th>25%</th>\n",
       "      <td>2017.000000</td>\n",
       "      <td>68.000000</td>\n",
       "      <td>7059.875000</td>\n",
       "      <td>-300.375000</td>\n",
       "      <td>-867.200000</td>\n",
       "      <td>6428.250000</td>\n",
       "      <td>1083.300000</td>\n",
       "      <td>7633.692500</td>\n",
       "    </tr>\n",
       "    <tr>\n",
       "      <th>50%</th>\n",
       "      <td>2018.000000</td>\n",
       "      <td>82.500000</td>\n",
       "      <td>8850.500000</td>\n",
       "      <td>-236.160000</td>\n",
       "      <td>-299.875000</td>\n",
       "      <td>8076.430000</td>\n",
       "      <td>1341.650000</td>\n",
       "      <td>9404.405000</td>\n",
       "    </tr>\n",
       "    <tr>\n",
       "      <th>75%</th>\n",
       "      <td>2019.000000</td>\n",
       "      <td>97.500000</td>\n",
       "      <td>10150.700000</td>\n",
       "      <td>-169.487500</td>\n",
       "      <td>-73.277500</td>\n",
       "      <td>9534.000000</td>\n",
       "      <td>1632.132500</td>\n",
       "      <td>11153.687500</td>\n",
       "    </tr>\n",
       "    <tr>\n",
       "      <th>max</th>\n",
       "      <td>2019.000000</td>\n",
       "      <td>342.000000</td>\n",
       "      <td>31183.900000</td>\n",
       "      <td>-51.500000</td>\n",
       "      <td>0.000000</td>\n",
       "      <td>27603.210000</td>\n",
       "      <td>5703.250000</td>\n",
       "      <td>33306.460000</td>\n",
       "    </tr>\n",
       "  </tbody>\n",
       "</table>\n",
       "</div>"
      ],
      "text/plain": [
       "              Year  Total Orders   Gross Sales    Discounts      Returns  \\\n",
       "count    36.000000     36.000000     36.000000    36.000000    36.000000   \n",
       "mean   2018.000000     97.138889   9844.926389  -311.493889  -474.958056   \n",
       "std       0.828079     57.458632   4936.386351   362.766989   488.820410   \n",
       "min    2017.000000     54.000000   5720.000000 -2269.510000 -1572.550000   \n",
       "25%    2017.000000     68.000000   7059.875000  -300.375000  -867.200000   \n",
       "50%    2018.000000     82.500000   8850.500000  -236.160000  -299.875000   \n",
       "75%    2019.000000     97.500000  10150.700000  -169.487500   -73.277500   \n",
       "max    2019.000000    342.000000  31183.900000   -51.500000     0.000000   \n",
       "\n",
       "          Net Sales     Shipping   Total Sales  \n",
       "count     36.000000    36.000000     36.000000  \n",
       "mean    9058.474444  1579.391667  10637.941111  \n",
       "std     4497.185264  1011.170014   5475.621125  \n",
       "min     4589.100000   695.420000   5296.530000  \n",
       "25%     6428.250000  1083.300000   7633.692500  \n",
       "50%     8076.430000  1341.650000   9404.405000  \n",
       "75%     9534.000000  1632.132500  11153.687500  \n",
       "max    27603.210000  5703.250000  33306.460000  "
      ]
     },
     "execution_count": 14,
     "metadata": {},
     "output_type": "execute_result"
    }
   ],
   "source": [
    "df2.describe()"
   ]
  },
  {
   "cell_type": "code",
   "execution_count": 16,
   "id": "e55bd0ff-0e1a-4a26-8891-235159c5b360",
   "metadata": {},
   "outputs": [
    {
     "name": "stdout",
     "output_type": "stream",
     "text": [
      "Month\n",
      "April        28146.58\n",
      "August       27626.58\n",
      "December     59375.46\n",
      "February     21756.81\n",
      "January      26847.69\n",
      "July         26755.57\n",
      "June         32444.36\n",
      "March        27500.28\n",
      "May          25379.69\n",
      "November     55477.15\n",
      "October      22638.20\n",
      "September    29017.51\n",
      "Name: Total Sales, dtype: float64\n",
      "Average Total Sales:  31913.823333333337\n"
     ]
    }
   ],
   "source": [
    "import pandas as pd\n",
    "\n",
    "# Read the first .csv file\n",
    "df1 = pd.read_csv(\"business.retailsales.csv\")\n",
    "\n",
    "# Read the second .csv file\n",
    "df2 = pd.read_csv(\"business.retailsales2.csv\")\n",
    "\n",
    "# Merge the two dataframes into one\n",
    "df = pd.concat([df1, df2], axis=0)\n",
    "\n",
    "# Calculate the total sales for each month\n",
    "total_sales = df.groupby(\"Month\")[\"Total Sales\"].sum()\n",
    "\n",
    "# Print the total sales for each month\n",
    "print(total_sales)\n",
    "\n",
    "# Calculate the average total sales per month\n",
    "average_total_sales = total_sales.mean()\n",
    "\n",
    "# Print the average total sales per month\n",
    "print(\"Average Total Sales: \", average_total_sales)\n"
   ]
  },
  {
   "cell_type": "code",
   "execution_count": 17,
   "id": "0ea80a89-28b3-4e9a-902b-9517e770c9f4",
   "metadata": {},
   "outputs": [
    {
     "data": {
      "image/png": "[encoded data removed]",
      "text/plain": [
       "<Figure size 432x288 with 1 Axes>"
      ]
     },
     "metadata": {
      "needs_background": "light"
     },
     "output_type": "display_data"
    }
   ],
   "source": [
    "import matplotlib.pyplot as plt\n",
    "\n",
    "# Plot the total sales for each month\n",
    "plt.bar(total_sales.index, total_sales.values)\n",
    "\n",
    "# Add labels and title to the chart\n",
    "plt.xlabel(\"Month\")\n",
    "plt.ylabel(\"Total Sales (in dollars)\")\n",
    "plt.title(\"Total Sales per Month\")\n",
    "\n",
    "# Show the chart\n",
    "plt.show()\n"
   ]
  },
  {
   "cell_type": "code",
   "execution_count": 18,
   "id": "11fedc6d-f94a-400f-820f-c8a8b5f8ad78",
   "metadata": {},
   "outputs": [
    {
     "name": "stdout",
     "output_type": "stream",
     "text": [
      "Total Discounts:\n",
      "Month\n",
      "April        -799.08\n",
      "August       -601.14\n",
      "December    -2790.56\n",
      "February     -554.75\n",
      "January      -608.47\n",
      "July         -736.44\n",
      "June         -755.87\n",
      "March        -838.87\n",
      "May          -867.90\n",
      "November    -1322.59\n",
      "October      -645.37\n",
      "September    -692.74\n",
      "Name: Discounts, dtype: float64\n",
      "Total Returns:\n",
      "Month\n",
      "April         -50.00\n",
      "August       -307.72\n",
      "December    -2653.73\n",
      "February     -573.05\n",
      "January     -1725.05\n",
      "July        -2067.93\n",
      "June        -1689.43\n",
      "March       -2007.00\n",
      "May         -1875.17\n",
      "November     -842.76\n",
      "October     -2172.30\n",
      "September   -1134.35\n",
      "Name: Returns, dtype: float64\n",
      "Total Shipping:\n",
      "Month\n",
      "April        3798.31\n",
      "August       3972.24\n",
      "December     9596.30\n",
      "February     2923.21\n",
      "January      3582.26\n",
      "July         4065.79\n",
      "June         4685.61\n",
      "March        4049.45\n",
      "May          3869.61\n",
      "November     8616.90\n",
      "October      3589.12\n",
      "September    4109.30\n",
      "Name: Shipping, dtype: float64\n"
     ]
    }
   ],
   "source": [
    "# Calculate the total discounts for each month\n",
    "total_discounts = df.groupby(\"Month\")[\"Discounts\"].sum()\n",
    "\n",
    "# Calculate the total returns for each month\n",
    "total_returns = df.groupby(\"Month\")[\"Returns\"].sum()\n",
    "\n",
    "# Calculate the total shipping costs for each month\n",
    "total_shipping = df.groupby(\"Month\")[\"Shipping\"].sum()\n",
    "\n",
    "# Print the total discounts, returns, and shipping costs for each month\n",
    "print(\"Total Discounts:\")\n",
    "print(total_discounts)\n",
    "\n",
    "print(\"Total Returns:\")\n",
    "print(total_returns)\n",
    "\n",
    "print(\"Total Shipping:\")\n",
    "print(total_shipping)\n"
   ]
  },
  {
   "cell_type": "code",
   "execution_count": 19,
   "id": "a8a17d1a-26ee-4ea1-847f-6b6ccb9d8b96",
   "metadata": {},
   "outputs": [
    {
     "name": "stdout",
     "output_type": "stream",
     "text": [
      "Net Sales:\n",
      "Month\n",
      "April        26046.43\n",
      "August       25472.06\n",
      "December     60667.74\n",
      "February     21089.20\n",
      "January      27929.77\n",
      "July         28298.52\n",
      "June         32649.35\n",
      "March        29142.57\n",
      "May          26996.22\n",
      "November     51190.95\n",
      "October      24684.42\n",
      "September    28562.39\n",
      "dtype: float64\n"
     ]
    }
   ],
   "source": [
    "# Calculate the net sales for each month\n",
    "net_sales = df.groupby(\"Month\")[\"Gross Sales\"].sum() - df.groupby(\"Month\")[\"Discounts\"].sum() - df.groupby(\"Month\")[\"Returns\"].sum()\n",
    "\n",
    "# Print the net sales for each month\n",
    "print(\"Net Sales:\")\n",
    "print(net_sales)\n"
   ]
  },
  {
   "cell_type": "code",
   "execution_count": 20,
   "id": "a5fbcb08-ec65-49bf-99b8-daeb02d2f144",
   "metadata": {},
   "outputs": [
    {
     "name": "stdout",
     "output_type": "stream",
     "text": [
      "Total Sales (2017):\n",
      "Month\n",
      "April         9600.90\n",
      "August        8583.56\n",
      "December     11132.85\n",
      "February      7280.05\n",
      "January       9371.95\n",
      "July          6766.66\n",
      "June         10573.87\n",
      "March         5296.53\n",
      "May           7103.91\n",
      "November     14124.95\n",
      "October       6022.42\n",
      "September     7639.62\n",
      "Name: Total Sales, dtype: float64\n",
      "Total Sales (2018):\n",
      "Month\n",
      "April        10521.63\n",
      "August        8764.81\n",
      "December     14936.15\n",
      "February      7158.61\n",
      "January       9859.83\n",
      "July          9974.13\n",
      "June         13543.36\n",
      "March         8434.00\n",
      "May           7059.58\n",
      "November     13670.90\n",
      "October       7704.25\n",
      "September    11941.03\n",
      "Name: Total Sales, dtype: float64\n"
     ]
    }
   ],
   "source": [
    "# Filter the data for 2017\n",
    "df_2017 = df[df[\"Year\"] == 2017]\n",
    "\n",
    "# Calculate the total sales for each month in 2017\n",
    "total_sales_2017 = df_2017.groupby(\"Month\")[\"Total Sales\"].sum()\n",
    "\n",
    "# Filter the data for 2018\n",
    "df_2018 = df[df[\"Year\"] == 2018]\n",
    "\n",
    "# Calculate the total sales for each month in 2018\n",
    "total_sales_2018 = df_2018.groupby(\"Month\")[\"Total Sales\"].sum()\n",
    "\n",
    "# Print the total sales for each month in 2017 and 2018\n",
    "print(\"Total Sales (2017):\")\n",
    "print(total_sales_2017)\n",
    "\n",
    "print(\"Total Sales (2018):\")\n",
    "print(total_sales_2018)\n"
   ]
  },
  {
   "cell_type": "code",
   "execution_count": 21,
   "id": "3d1c781c-dcce-479a-8cf7-3bf2c134547e",
   "metadata": {},
   "outputs": [
    {
     "name": "stdout",
     "output_type": "stream",
     "text": [
      "Total Sales (2017):\n",
      "Month\n",
      "April         9600.90\n",
      "August        8583.56\n",
      "December     11132.85\n",
      "February      7280.05\n",
      "January       9371.95\n",
      "July          6766.66\n",
      "June         10573.87\n",
      "March         5296.53\n",
      "May           7103.91\n",
      "November     14124.95\n",
      "October       6022.42\n",
      "September     7639.62\n",
      "Name: Total Sales, dtype: float64\n",
      "Total Sales (2018):\n",
      "Month\n",
      "April        10521.63\n",
      "August        8764.81\n",
      "December     14936.15\n",
      "February      7158.61\n",
      "January       9859.83\n",
      "July          9974.13\n",
      "June         13543.36\n",
      "March         8434.00\n",
      "May           7059.58\n",
      "November     13670.90\n",
      "October       7704.25\n",
      "September    11941.03\n",
      "Name: Total Sales, dtype: float64\n"
     ]
    }
   ],
   "source": [
    "# Filter the data for 2017\n",
    "df_2017 = df[df[\"Year\"] == 2017]\n",
    "\n",
    "# Calculate the total sales for each month in 2017\n",
    "total_sales_2017 = df_2017.groupby(\"Month\")[\"Total Sales\"].sum()\n",
    "\n",
    "# Filter the data for 2018\n",
    "df_2018 = df[df[\"Year\"] == 2018]\n",
    "\n",
    "# Calculate the total sales for each month in 2018\n",
    "total_sales_2018 = df_2018.groupby(\"Month\")[\"Total Sales\"].sum()\n",
    "\n",
    "# Print the total sales for each month in 2017 and 2018\n",
    "print(\"Total Sales (2017):\")\n",
    "print(total_sales_2017)\n",
    "\n",
    "print(\"Total Sales (2018):\")\n",
    "print(total_sales_2018)\n"
   ]
  },
  {
   "cell_type": "code",
   "execution_count": 22,
   "id": "c9a67558-f648-4548-9d15-ce533037eb9f",
   "metadata": {},
   "outputs": [
    {
     "data": {
      "image/png": "[encoded data removed]",
      "text/plain": [
       "<Figure size 720x432 with 1 Axes>"
      ]
     },
     "metadata": {
      "needs_background": "light"
     },
     "output_type": "display_data"
    }
   ],
   "source": [
    "# Import Matplotlib library\n",
    "import matplotlib.pyplot as plt\n",
    "\n",
    "# Set the plot size\n",
    "plt.figure(figsize=(10, 6))\n",
    "\n",
    "# Create a bar chart to compare the sales between different months in 2017\n",
    "plt.bar(total_sales_2017.index, total_sales_2017.values)\n",
    "\n",
    "# Add title and labels to the plot\n",
    "plt.title(\"Total Sales by Month (2017)\")\n",
    "plt.xlabel(\"Month\")\n",
    "plt.ylabel(\"Total Sales\")\n",
    "\n",
    "# Show the plot\n",
    "plt.show()\n"
   ]
  },
  {
   "cell_type": "code",
   "execution_count": 23,
   "id": "96e6f141-52c9-4854-aed3-dcd9c13426ae",
   "metadata": {},
   "outputs": [
    {
     "name": "stdout",
     "output_type": "stream",
     "text": [
      "The highest selling product is: Basket\n"
     ]
    }
   ],
   "source": [
    "import pandas as pd\n",
    "\n",
    "# Load the first retail sales dataset into a pandas DataFrame\n",
    "df1 = pd.read_csv(\"business.retailsales.csv\")\n",
    "\n",
    "# Load the second retail sales dataset into another pandas DataFrame\n",
    "df2 = pd.read_csv(\"business.retailsales2.csv\")\n",
    "\n",
    "# Combine the two DataFrames into one\n",
    "df = pd.concat([df1, df2])\n",
    "\n",
    "# Group the sales data by product\n",
    "grouped = df.groupby(\"Product Type\").sum()\n",
    "\n",
    "# Sort the groupby DataFrame by the sum of sales to find the highest selling product\n",
    "highest_selling_product = grouped.sort_values(\"Total Net Sales\", ascending=False).reset_index().iloc[0][\"Product Type\"]\n",
    "\n",
    "print(\"The highest selling product is:\", highest_selling_product)"
   ]
  },
  {
   "cell_type": "code",
   "execution_count": 27,
   "id": "769ec2b4-3834-421d-80e6-f0f32db16372",
   "metadata": {},
   "outputs": [
    {
     "name": "stdout",
     "output_type": "stream",
     "text": [
      "The top 5 selling products are: ['Basket', 'Art & Sculpture', 'Jewelry', 'Home Decor', 'Kitchen']\n"
     ]
    }
   ],
   "source": [
    "import pandas as pd\n",
    "\n",
    "# Load the first retail sales dataset into a pandas DataFrame\n",
    "df1 = pd.read_csv(\"business.retailsales.csv\")\n",
    "\n",
    "# Load the second retail sales dataset into another pandas DataFrame\n",
    "df2 = pd.read_csv(\"business.retailsales2.csv\")\n",
    "\n",
    "# Combine the two DataFrames into one\n",
    "df = pd.concat([df1, df2])\n",
    "\n",
    "# Group the sales data by product\n",
    "grouped = df.groupby(\"Product Type\").sum()\n",
    "\n",
    "# Sort the groupby DataFrame by the sum of sales to find the top 5 selling products\n",
    "top_5_selling_products = grouped.sort_values(\"Total Net Sales\" , ascending=False).reset_index().iloc[:5][\"Product Type\"].tolist()\n",
    "\n",
    "print(\"The top 5 selling products are:\", top_5_selling_products)"
   ]
  },
  {
   "cell_type": "code",
   "execution_count": 28,
   "id": "504a1d7c-60be-4a24-9a1b-9a9dddbdc95c",
   "metadata": {},
   "outputs": [
    {
     "name": "stdout",
     "output_type": "stream",
     "text": [
      "Top 5 Products:\n",
      "       Product Type  Gross Sales\n",
      "2            Basket    143815.50\n",
      "1   Art & Sculpture     90316.60\n",
      "9           Jewelry     31048.00\n",
      "8        Home Decor     27114.55\n",
      "11          Kitchen     16096.00\n",
      "\n",
      "Top 5 Average Sales:\n",
      "       Product Type  Gross Sales\n",
      "1   Art & Sculpture   268.001780\n",
      "2            Basket   261.008167\n",
      "15        Skin Care   237.227273\n",
      "3         Christmas   212.000000\n",
      "8        Home Decor   206.981298\n"
     ]
    }
   ],
   "source": [
    "import pandas as pd\n",
    "\n",
    "# read the \"business.retailsales.csv\" file into a Pandas dataframe\n",
    "df = pd.read_csv(\"business.retailsales.csv\")\n",
    "\n",
    "# calculate the total sales for each product\n",
    "total_sales = df.groupby('Product Type')['Gross Sales'].sum().reset_index()\n",
    "\n",
    "# sort the products based on total sales and select the top 5\n",
    "top_5_products = total_sales.sort_values(by='Gross Sales', ascending=False)[:5]\n",
    "\n",
    "# display the top 5 products\n",
    "print(\"Top 5 Products:\")\n",
    "print(top_5_products)\n",
    "\n",
    "# calculate the average sales for each product\n",
    "average_sales = df.groupby('Product Type')['Gross Sales'].mean().reset_index()\n",
    "\n",
    "# sort the products based on average sales and select the top 5\n",
    "top_5_average_sales = average_sales.sort_values(by='Gross Sales', ascending=False)[:5]\n",
    "\n",
    "# display the top 5 average sales\n",
    "print(\"\\nTop 5 Average Sales:\")\n",
    "print(top_5_average_sales)\n"
   ]
  },
  {
   "cell_type": "code",
   "execution_count": null,
   "id": "5fbd2b4e-8103-408e-8095-920e1ea2fde7",
   "metadata": {},
   "outputs": [],
   "source": []
  }
 ],
 "metadata": {
  "kernelspec": {
   "display_name": "Python 3 (ipykernel)",
   "language": "python",
   "name": "python3"
  },
  "language_info": {
   "codemirror_mode": {
    "name": "ipython",
    "version": 3
   },
   "file_extension": ".py",
   "mimetype": "text/x-python",
   "name": "python",
   "nbconvert_exporter": "python",
   "pygments_lexer": "ipython3",
   "version": "3.8.8"
  }
 },
 "nbformat": 4,
 "nbformat_minor": 5
}
